{
 "cells": [
  {
   "cell_type": "code",
   "execution_count": 1,
   "metadata": {},
   "outputs": [
    {
     "name": "stderr",
     "output_type": "stream",
     "text": [
      "STAGE:2023-01-05 13:24:03 59758:587969 ActivityProfilerController.cpp:294] Completed Stage: Warm Up\n",
      "STAGE:2023-01-05 13:24:04 59758:587969 ActivityProfilerController.cpp:300] Completed Stage: Collection\n"
     ]
    }
   ],
   "source": [
    "import torch\n",
    "import torchvision.models as models\n",
    "from torch.profiler import profile, ProfilerActivity\n",
    "\n",
    "model = models.resnet18()\n",
    "inputs = torch.randn(5, 3, 224, 224)\n",
    "\n",
    "with profile(activities=[ProfilerActivity.CPU], record_shapes=True) as prof:\n",
    "   model(inputs)\n",
    "\n"
   ]
  },
  {
   "cell_type": "code",
   "execution_count": 2,
   "metadata": {},
   "outputs": [
    {
     "name": "stdout",
     "output_type": "stream",
     "text": [
      "---------------------------------  ------------  ------------  ------------  ------------  ------------  ------------  \n",
      "                             Name    Self CPU %      Self CPU   CPU total %     CPU total  CPU time avg    # of Calls  \n",
      "---------------------------------  ------------  ------------  ------------  ------------  ------------  ------------  \n",
      "                     aten::conv2d         0.17%     959.000us        91.07%     508.678ms      25.434ms            20  \n",
      "                aten::convolution         0.14%     771.000us        90.89%     507.719ms      25.386ms            20  \n",
      "               aten::_convolution         0.36%       2.005ms        90.76%     506.948ms      25.347ms            20  \n",
      "         aten::mkldnn_convolution        90.30%     504.402ms        90.40%     504.943ms      25.247ms            20  \n",
      "                 aten::batch_norm         0.05%     289.000us         3.20%      17.876ms     893.800us            20  \n",
      "     aten::_batch_norm_impl_index         0.15%     840.000us         3.15%      17.587ms     879.350us            20  \n",
      "          aten::native_batch_norm         2.93%      16.345ms         3.00%      16.731ms     836.550us            20  \n",
      "                 aten::max_pool2d         0.05%     292.000us         2.13%      11.913ms      11.913ms             1  \n",
      "    aten::max_pool2d_with_indices         2.08%      11.621ms         2.08%      11.621ms      11.621ms             1  \n",
      "        aten::adaptive_avg_pool2d         0.07%     388.000us         1.53%       8.571ms       8.571ms             1  \n",
      "---------------------------------  ------------  ------------  ------------  ------------  ------------  ------------  \n",
      "Self CPU time total: 558.580ms\n",
      "\n"
     ]
    }
   ],
   "source": [
    "print(prof.key_averages().table(sort_by=\"cpu_time_total\", row_limit=10))\n"
   ]
  },
  {
   "cell_type": "code",
   "execution_count": 3,
   "metadata": {},
   "outputs": [
    {
     "name": "stdout",
     "output_type": "stream",
     "text": [
      "---------------------------------  ------------  ------------  ------------  ------------  ------------  ------------  --------------------------------------------------------------------------------  \n",
      "                             Name    Self CPU %      Self CPU   CPU total %     CPU total  CPU time avg    # of Calls                                                                      Input Shapes  \n",
      "---------------------------------  ------------  ------------  ------------  ------------  ------------  ------------  --------------------------------------------------------------------------------  \n",
      "                     aten::conv2d         0.00%      20.000us        21.30%     118.987ms      29.747ms             4                             [[5, 64, 56, 56], [64, 64, 3, 3], [], [], [], [], []]  \n",
      "                aten::convolution         0.01%      61.000us        21.30%     118.967ms      29.742ms             4                     [[5, 64, 56, 56], [64, 64, 3, 3], [], [], [], [], [], [], []]  \n",
      "               aten::_convolution         0.01%      48.000us        21.29%     118.906ms      29.727ms             4     [[5, 64, 56, 56], [64, 64, 3, 3], [], [], [], [], [], [], [], [], [], [], []]  \n",
      "         aten::mkldnn_convolution        21.27%     118.808ms        21.28%     118.858ms      29.715ms             4                             [[5, 64, 56, 56], [64, 64, 3, 3], [], [], [], [], []]  \n",
      "                     aten::conv2d         0.00%      12.000us        16.82%      93.980ms      31.327ms             3                            [[5, 512, 7, 7], [512, 512, 3, 3], [], [], [], [], []]  \n",
      "                aten::convolution         0.01%      39.000us        16.82%      93.968ms      31.323ms             3                    [[5, 512, 7, 7], [512, 512, 3, 3], [], [], [], [], [], [], []]  \n",
      "               aten::_convolution         0.01%      28.000us        16.82%      93.929ms      31.310ms             3    [[5, 512, 7, 7], [512, 512, 3, 3], [], [], [], [], [], [], [], [], [], [], []]  \n",
      "         aten::mkldnn_convolution        16.80%      93.869ms        16.81%      93.901ms      31.300ms             3                            [[5, 512, 7, 7], [512, 512, 3, 3], [], [], [], [], []]  \n",
      "                     aten::conv2d         0.00%      13.000us        16.10%      89.915ms      29.972ms             3                          [[5, 256, 14, 14], [256, 256, 3, 3], [], [], [], [], []]  \n",
      "                aten::convolution         0.01%      36.000us        16.09%      89.902ms      29.967ms             3                  [[5, 256, 14, 14], [256, 256, 3, 3], [], [], [], [], [], [], []]  \n",
      "               aten::_convolution         0.01%      29.000us        16.09%      89.866ms      29.955ms             3  [[5, 256, 14, 14], [256, 256, 3, 3], [], [], [], [], [], [], [], [], [], [], []]  \n",
      "         aten::mkldnn_convolution        16.08%      89.809ms        16.08%      89.837ms      29.946ms             3                          [[5, 256, 14, 14], [256, 256, 3, 3], [], [], [], [], []]  \n",
      "                     aten::conv2d         0.00%      13.000us        15.62%      87.225ms      29.075ms             3                          [[5, 128, 28, 28], [128, 128, 3, 3], [], [], [], [], []]  \n",
      "                aten::convolution         0.01%      42.000us        15.61%      87.212ms      29.071ms             3                  [[5, 128, 28, 28], [128, 128, 3, 3], [], [], [], [], [], [], []]  \n",
      "               aten::_convolution         0.01%      38.000us        15.61%      87.170ms      29.057ms             3  [[5, 128, 28, 28], [128, 128, 3, 3], [], [], [], [], [], [], [], [], [], [], []]  \n",
      "         aten::mkldnn_convolution        15.59%      87.090ms        15.60%      87.132ms      29.044ms             3                          [[5, 128, 28, 28], [128, 128, 3, 3], [], [], [], [], []]  \n",
      "                     aten::conv2d         0.16%     874.000us         9.78%      54.604ms      54.604ms             1                             [[5, 3, 224, 224], [64, 3, 7, 7], [], [], [], [], []]  \n",
      "                aten::convolution         0.09%     517.000us         9.62%      53.730ms      53.730ms             1                     [[5, 3, 224, 224], [64, 3, 7, 7], [], [], [], [], [], [], []]  \n",
      "               aten::_convolution         0.32%       1.797ms         9.53%      53.213ms      53.213ms             1     [[5, 3, 224, 224], [64, 3, 7, 7], [], [], [], [], [], [], [], [], [], [], []]  \n",
      "         aten::mkldnn_convolution         9.14%      51.074ms         9.20%      51.416ms      51.416ms             1                             [[5, 3, 224, 224], [64, 3, 7, 7], [], [], [], [], []]  \n",
      "                     aten::conv2d         0.00%       5.000us         3.41%      19.055ms      19.055ms             1                          [[5, 256, 14, 14], [512, 256, 3, 3], [], [], [], [], []]  \n",
      "                aten::convolution         0.00%      13.000us         3.41%      19.050ms      19.050ms             1                  [[5, 256, 14, 14], [512, 256, 3, 3], [], [], [], [], [], [], []]  \n",
      "               aten::_convolution         0.00%      11.000us         3.41%      19.037ms      19.037ms             1  [[5, 256, 14, 14], [512, 256, 3, 3], [], [], [], [], [], [], [], [], [], [], []]  \n",
      "         aten::mkldnn_convolution         3.40%      19.017ms         3.41%      19.026ms      19.026ms             1                          [[5, 256, 14, 14], [512, 256, 3, 3], [], [], [], [], []]  \n",
      "                     aten::conv2d         0.00%       4.000us         3.33%      18.608ms      18.608ms             1                            [[5, 64, 56, 56], [128, 64, 3, 3], [], [], [], [], []]  \n",
      "                aten::convolution         0.00%      15.000us         3.33%      18.604ms      18.604ms             1                    [[5, 64, 56, 56], [128, 64, 3, 3], [], [], [], [], [], [], []]  \n",
      "               aten::_convolution         0.00%      12.000us         3.33%      18.589ms      18.589ms             1    [[5, 64, 56, 56], [128, 64, 3, 3], [], [], [], [], [], [], [], [], [], [], []]  \n",
      "         aten::mkldnn_convolution         3.32%      18.563ms         3.33%      18.577ms      18.577ms             1                            [[5, 64, 56, 56], [128, 64, 3, 3], [], [], [], [], []]  \n",
      "                     aten::conv2d         0.00%       4.000us         2.88%      16.111ms      16.111ms             1                          [[5, 128, 28, 28], [256, 128, 3, 3], [], [], [], [], []]  \n",
      "                aten::convolution         0.00%      14.000us         2.88%      16.107ms      16.107ms             1                  [[5, 128, 28, 28], [256, 128, 3, 3], [], [], [], [], [], [], []]  \n",
      "---------------------------------  ------------  ------------  ------------  ------------  ------------  ------------  --------------------------------------------------------------------------------  \n",
      "Self CPU time total: 558.580ms\n",
      "\n"
     ]
    }
   ],
   "source": [
    "print(prof.key_averages(group_by_input_shape=True).table(sort_by=\"cpu_time_total\", row_limit=30))\n"
   ]
  },
  {
   "attachments": {},
   "cell_type": "markdown",
   "metadata": {},
   "source": [
    "Profile the memory allocation too."
   ]
  },
  {
   "cell_type": "code",
   "execution_count": 5,
   "metadata": {},
   "outputs": [
    {
     "name": "stderr",
     "output_type": "stream",
     "text": [
      "STAGE:2023-01-05 13:25:05 59758:587969 ActivityProfilerController.cpp:294] Completed Stage: Warm Up\n",
      "STAGE:2023-01-05 13:25:06 59758:587969 ActivityProfilerController.cpp:300] Completed Stage: Collection\n"
     ]
    }
   ],
   "source": [
    "with profile(activities=[ProfilerActivity.CPU], record_shapes=True, profile_memory=True) as prof:\n",
    "   model(inputs)"
   ]
  },
  {
   "cell_type": "code",
   "execution_count": 6,
   "metadata": {},
   "outputs": [
    {
     "name": "stdout",
     "output_type": "stream",
     "text": [
      "---------------------------------  ------------  ------------  ------------  ------------  ------------  ------------  ------------  ------------  \n",
      "                             Name    Self CPU %      Self CPU   CPU total %     CPU total  CPU time avg       CPU Mem  Self CPU Mem    # of Calls  \n",
      "---------------------------------  ------------  ------------  ------------  ------------  ------------  ------------  ------------  ------------  \n",
      "                      aten::empty         0.08%     378.000us         0.08%     378.000us       1.890us      94.83 Mb      94.83 Mb           200  \n",
      "    aten::max_pool2d_with_indices         3.00%      14.855ms         3.00%      14.855ms      14.855ms      11.48 Mb      11.48 Mb             1  \n",
      "                 aten::empty_like         0.01%      62.000us         0.02%     123.000us       6.150us      47.37 Mb     980.00 Kb            20  \n",
      "                     aten::conv2d         0.55%       2.732ms        93.04%     460.827ms      23.041ms      47.37 Mb     490.00 Kb            20  \n",
      "                      aten::addmm         0.05%     235.000us         0.05%     246.000us     246.000us      19.53 Kb      19.53 Kb             1  \n",
      "                       aten::mean         0.00%      13.000us         0.03%     141.000us     141.000us      10.00 Kb      10.00 Kb             1  \n",
      "              aten::empty_strided         0.00%       3.000us         0.00%       3.000us       3.000us           4 b           4 b             1  \n",
      "                aten::convolution         0.06%     316.000us        93.02%     460.730ms      23.037ms      47.37 Mb           0 b            20  \n",
      "               aten::_convolution         0.05%     230.000us        92.96%     460.414ms      23.021ms      47.37 Mb           0 b            20  \n",
      "         aten::mkldnn_convolution        92.86%     459.937ms        92.91%     460.184ms      23.009ms      47.37 Mb           0 b            20  \n",
      "---------------------------------  ------------  ------------  ------------  ------------  ------------  ------------  ------------  ------------  \n",
      "Self CPU time total: 495.288ms\n",
      "\n"
     ]
    }
   ],
   "source": [
    "print(prof.key_averages().table(sort_by=\"self_cpu_memory_usage\", row_limit=10))\n"
   ]
  },
  {
   "attachments": {},
   "cell_type": "markdown",
   "metadata": {},
   "source": [
    "Export the profiling."
   ]
  },
  {
   "cell_type": "code",
   "execution_count": 7,
   "metadata": {},
   "outputs": [
    {
     "name": "stderr",
     "output_type": "stream",
     "text": [
      "STAGE:2023-01-05 13:25:40 59758:587969 output_json.cpp:417] Completed Stage: Post Processing\n"
     ]
    }
   ],
   "source": [
    "prof.export_chrome_trace(\"trace.json\")\n"
   ]
  },
  {
   "attachments": {},
   "cell_type": "markdown",
   "metadata": {},
   "source": [
    "Profile multiple steps to get a better understanding."
   ]
  },
  {
   "cell_type": "code",
   "execution_count": 8,
   "metadata": {},
   "outputs": [
    {
     "name": "stderr",
     "output_type": "stream",
     "text": [
      "STAGE:2023-01-05 13:27:10 59758:587969 ActivityProfilerController.cpp:294] Completed Stage: Warm Up\n",
      "STAGE:2023-01-05 13:27:14 59758:587969 ActivityProfilerController.cpp:300] Completed Stage: Collection\n"
     ]
    }
   ],
   "source": [
    "with profile(activities=[ProfilerActivity.CPU], record_shapes=True, profile_memory=True) as prof:\n",
    "   for i in range(10):\n",
    "      model(inputs)\n",
    "      prof.step()\n"
   ]
  },
  {
   "cell_type": "code",
   "execution_count": 9,
   "metadata": {},
   "outputs": [
    {
     "name": "stdout",
     "output_type": "stream",
     "text": [
      "---------------------------------  ------------  ------------  ------------  ------------  ------------  ------------  ------------  ------------  \n",
      "                             Name    Self CPU %      Self CPU   CPU total %     CPU total  CPU time avg       CPU Mem  Self CPU Mem    # of Calls  \n",
      "---------------------------------  ------------  ------------  ------------  ------------  ------------  ------------  ------------  ------------  \n",
      "                      aten::empty         0.07%       3.288ms         0.07%       3.288ms       1.644us     947.37 Mb     947.37 Mb          2000  \n",
      "    aten::max_pool2d_with_indices         2.16%     102.916ms         2.16%     102.916ms      10.292ms     114.84 Mb     114.84 Mb            10  \n",
      "                 aten::empty_like         0.01%     560.000us         0.02%       1.101ms       5.505us     473.73 Mb      15.31 Mb           200  \n",
      "               aten::_convolution         0.09%       4.482ms        94.44%        4.509s      22.544ms     473.73 Mb     980.00 Kb           200  \n",
      "                      aten::addmm         0.06%       2.659ms         0.06%       2.808ms     280.800us     195.31 Kb     195.31 Kb            10  \n",
      "                       aten::mean         0.00%     172.000us         0.03%       1.452ms     145.200us     100.00 Kb      99.98 Kb            10  \n",
      "              aten::empty_strided         0.00%      28.000us         0.00%      28.000us       2.800us          36 b          36 b            10  \n",
      "                         aten::to         0.00%      32.000us         0.00%     160.000us      16.000us          40 b           4 b            10  \n",
      "                   aten::_to_copy         0.00%      69.000us         0.00%     138.000us      13.800us          40 b           4 b            10  \n",
      "                     aten::conv2d         0.02%     963.000us        94.52%        4.513s      22.563ms     473.73 Mb           0 b           200  \n",
      "---------------------------------  ------------  ------------  ------------  ------------  ------------  ------------  ------------  ------------  \n",
      "Self CPU time total: 4.774s\n",
      "\n"
     ]
    }
   ],
   "source": [
    "print(prof.key_averages().table(sort_by=\"self_cpu_memory_usage\", row_limit=10))\n"
   ]
  },
  {
   "attachments": {},
   "cell_type": "markdown",
   "metadata": {},
   "source": [
    "## using tensorboard"
   ]
  },
  {
   "cell_type": "code",
   "execution_count": 16,
   "metadata": {},
   "outputs": [
    {
     "name": "stderr",
     "output_type": "stream",
     "text": [
      "STAGE:2023-01-05 13:58:25 59758:587969 ActivityProfilerController.cpp:294] Completed Stage: Warm Up\n",
      "STAGE:2023-01-05 13:58:25 59758:587969 ActivityProfilerController.cpp:300] Completed Stage: Collection\n",
      "STAGE:2023-01-05 13:58:25 59758:587969 output_json.cpp:417] Completed Stage: Post Processing\n"
     ]
    }
   ],
   "source": [
    "from torch.profiler import profile, tensorboard_trace_handler\n",
    "with profile(activities=[ProfilerActivity.CPU], record_shapes=True, profile_memory=True, on_trace_ready=tensorboard_trace_handler(\"./log/resnet18\")) as prof:\n",
    "         model(inputs)\n",
    "\n"
   ]
  },
  {
   "cell_type": "code",
   "execution_count": 19,
   "metadata": {},
   "outputs": [
    {
     "name": "stdout",
     "output_type": "stream",
     "text": [
      "\n",
      "NOTE: Using experimental fast data loading logic. To disable, pass\n",
      "    \"--load_fast=false\" and report issues on GitHub. More details:\n",
      "    https://github.com/tensorflow/tensorboard/issues/4784\n",
      "\n",
      "I0105 14:07:17.884896 12940980224 plugin.py:429] Monitor runs begin\n",
      "I0105 14:07:17.885462 12940980224 plugin.py:444] Find run directory /Users/alaina/Desktop/classes/2023Jan/dtu_mlops/s4_debugging_and_logging/exercise_files/log/resnet18\n",
      "I0105 14:07:17.886278 12974559232 plugin.py:493] Load run resnet18\n",
      "I0105 14:07:17.968463 12974559232 loader.py:57] started all processing\n",
      "Serving TensorBoard on localhost; to expose to the network, use a proxy or pass --bind_all\n",
      "TensorBoard 2.9.0 at http://localhost:8892/ (Press CTRL+C to quit)\n",
      "I0105 14:07:19.681622 12974559232 plugin.py:497] Run resnet18 loaded\n",
      "I0105 14:07:19.682111 12957769728 plugin.py:467] Add run resnet18\n",
      "W0105 14:07:35.864212 13008674816 security_validator.py:46] In 3.0, this warning will become an error:\n",
      "Requires default-src for Content-Security-Policy\n"
     ]
    }
   ],
   "source": [
    "\n",
    "!tensorboard --logdir=\"./log/resnet18/\" --port=8892"
   ]
  },
  {
   "cell_type": "markdown",
   "metadata": {},
   "source": []
  }
 ],
 "metadata": {
  "kernelspec": {
   "display_name": "Python 3",
   "language": "python",
   "name": "python3"
  },
  "language_info": {
   "codemirror_mode": {
    "name": "ipython",
    "version": 3
   },
   "file_extension": ".py",
   "mimetype": "text/x-python",
   "name": "python",
   "nbconvert_exporter": "python",
   "pygments_lexer": "ipython3",
   "version": "3.8.13"
  },
  "orig_nbformat": 4,
  "vscode": {
   "interpreter": {
    "hash": "240a9a2023056db8410f0524415d27f6066a634d686182370d5eee6cb9534ea3"
   }
  }
 },
 "nbformat": 4,
 "nbformat_minor": 2
}

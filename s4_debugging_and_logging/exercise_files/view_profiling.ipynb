{
 "cells": [
  {
   "attachments": {},
   "cell_type": "markdown",
   "metadata": {},
   "source": [
    "## pstats"
   ]
  },
  {
   "cell_type": "code",
   "execution_count": 6,
   "metadata": {},
   "outputs": [
    {
     "name": "stdout",
     "output_type": "stream",
     "text": [
      "Thu Jan  5 12:39:54 2023    profiling_output.txt\n",
      "\n",
      "         27430596 function calls (27385581 primitive calls) in 58.899 seconds\n",
      "\n",
      "   Ordered by: internal time\n",
      "   List reduced from 5319 to 10 due to restriction <10>\n",
      "\n",
      "   ncalls  tottime  percall  cumtime  percall filename:lineno(function)\n",
      "     3000   17.698    0.006   17.698    0.006 {method 'run_backward' of 'torch._C._EngineBase' objects}\n",
      "    15007   10.291    0.001   10.291    0.001 {built-in method torch._C._nn.linear}\n",
      "   300100    1.951    0.000   19.699    0.000 /Users/alaina/opt/anaconda3/envs/venv1/lib/python3.8/site-packages/torchvision/datasets/mnist.py:130(__getitem__)\n",
      "   300100    1.806    0.000    1.806    0.000 {method 'div' of 'torch._C._TensorBase' objects}\n",
      "   300100    1.660    0.000   12.787    0.000 /Users/alaina/opt/anaconda3/envs/venv1/lib/python3.8/site-packages/torchvision/transforms/functional.py:122(to_tensor)\n",
      "   300223    1.241    0.000    4.330    0.000 {built-in method numpy.array}\n",
      "     3000    1.225    0.000    1.225    0.000 {built-in method torch._C._nn.binary_cross_entropy}\n",
      "   303115    1.173    0.000    1.173    0.000 {method 'to' of 'torch._C._TensorBase' objects}\n",
      "     3000    1.034    0.000    4.805    0.002 /Users/alaina/opt/anaconda3/envs/venv1/lib/python3.8/site-packages/torch/optim/adam.py:319(_single_tensor_adam)\n",
      "    60000    1.031    0.000    1.031    0.000 {method 'mul_' of 'torch._C._TensorBase' objects}\n",
      "\n",
      "\n"
     ]
    },
    {
     "data": {
      "text/plain": [
       "<pstats.Stats at 0x10ee54be0>"
      ]
     },
     "execution_count": 6,
     "metadata": {},
     "output_type": "execute_result"
    }
   ],
   "source": [
    "import pstats\n",
    "p = pstats.Stats('profiling_output.txt')\n",
    "p.sort_stats('tottime').print_stats(10)"
   ]
  },
  {
   "cell_type": "code",
   "execution_count": 7,
   "metadata": {},
   "outputs": [
    {
     "ename": "ModuleNotFoundError",
     "evalue": "No module named 'snakeviz'",
     "output_type": "error",
     "traceback": [
      "\u001b[0;31m---------------------------------------------------------------------------\u001b[0m",
      "\u001b[0;31mModuleNotFoundError\u001b[0m                       Traceback (most recent call last)",
      "\u001b[1;32m/Users/alaina/Desktop/classes/2023Jan/dtu_mlops/s4_debugging_and_logging/exercise_files/view_profiling.ipynb Cell 4\u001b[0m in \u001b[0;36m<cell line: 1>\u001b[0;34m()\u001b[0m\n\u001b[0;32m----> <a href='vscode-notebook-cell:/Users/alaina/Desktop/classes/2023Jan/dtu_mlops/s4_debugging_and_logging/exercise_files/view_profiling.ipynb#W4sZmlsZQ%3D%3D?line=0'>1</a>\u001b[0m \u001b[39mimport\u001b[39;00m \u001b[39msnakeviz\u001b[39;00m\n",
      "\u001b[0;31mModuleNotFoundError\u001b[0m: No module named 'snakeviz'"
     ]
    }
   ],
   "source": []
  },
  {
   "attachments": {},
   "cell_type": "markdown",
   "metadata": {},
   "source": []
  }
 ],
 "metadata": {
  "kernelspec": {
   "display_name": "Python 3",
   "language": "python",
   "name": "python3"
  },
  "language_info": {
   "codemirror_mode": {
    "name": "ipython",
    "version": 3
   },
   "file_extension": ".py",
   "mimetype": "text/x-python",
   "name": "python",
   "nbconvert_exporter": "python",
   "pygments_lexer": "ipython3",
   "version": "3.9.15"
  },
  "orig_nbformat": 4,
  "vscode": {
   "interpreter": {
    "hash": "a665b5d41d17b532ea9890333293a1b812fa0b73c9c25c950b3cedf1bebd0438"
   }
  }
 },
 "nbformat": 4,
 "nbformat_minor": 2
}

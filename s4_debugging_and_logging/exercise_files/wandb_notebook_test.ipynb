{
 "cells": [
  {
   "cell_type": "code",
   "execution_count": 5,
   "metadata": {},
   "outputs": [
    {
     "data": {
      "text/html": [
       "Finishing last run (ID:2lpc3yht) before initializing another..."
      ],
      "text/plain": [
       "<IPython.core.display.HTML object>"
      ]
     },
     "metadata": {},
     "output_type": "display_data"
    },
    {
     "data": {
      "text/html": [
       "Waiting for W&B process to finish... <strong style=\"color:green\">(success).</strong>"
      ],
      "text/plain": [
       "<IPython.core.display.HTML object>"
      ]
     },
     "metadata": {},
     "output_type": "display_data"
    },
    {
     "data": {
      "application/vnd.jupyter.widget-view+json": {
       "model_id": "892dc19f78c545a3914783119da695ea",
       "version_major": 2,
       "version_minor": 0
      },
      "text/plain": [
       "VBox(children=(Label(value='0.001 MB of 0.001 MB uploaded (0.000 MB deduped)\\r'), FloatProgress(value=1.0, max…"
      ]
     },
     "metadata": {},
     "output_type": "display_data"
    },
    {
     "data": {
      "text/html": [
       "Synced <strong style=\"color:#cdcd00\">legendary-wave-12</strong>: <a href=\"https://wandb.ai/dtu_ml_ops/wandb-test-loss/runs/2lpc3yht\" target=\"_blank\">https://wandb.ai/dtu_ml_ops/wandb-test-loss/runs/2lpc3yht</a><br/>Synced 5 W&B file(s), 0 media file(s), 0 artifact file(s) and 0 other file(s)"
      ],
      "text/plain": [
       "<IPython.core.display.HTML object>"
      ]
     },
     "metadata": {},
     "output_type": "display_data"
    },
    {
     "data": {
      "text/html": [
       "Find logs at: <code>./wandb/run-20230105_152651-2lpc3yht/logs</code>"
      ],
      "text/plain": [
       "<IPython.core.display.HTML object>"
      ]
     },
     "metadata": {},
     "output_type": "display_data"
    },
    {
     "data": {
      "text/html": [
       "Successfully finished last run (ID:2lpc3yht). Initializing new run:<br/>"
      ],
      "text/plain": [
       "<IPython.core.display.HTML object>"
      ]
     },
     "metadata": {},
     "output_type": "display_data"
    },
    {
     "data": {
      "application/vnd.jupyter.widget-view+json": {
       "model_id": "6c60cb4a85084998b94e21ac0676e35c",
       "version_major": 2,
       "version_minor": 0
      },
      "text/plain": [
       "VBox(children=(Label(value='Waiting for wandb.init()...\\r'), FloatProgress(value=0.01675104721666685, max=1.0)…"
      ]
     },
     "metadata": {},
     "output_type": "display_data"
    },
    {
     "data": {
      "text/html": [
       "Tracking run with wandb version 0.13.7"
      ],
      "text/plain": [
       "<IPython.core.display.HTML object>"
      ]
     },
     "metadata": {},
     "output_type": "display_data"
    },
    {
     "data": {
      "text/html": [
       "Run data is saved locally in <code>/Users/alaina/Desktop/classes/2023Jan/dtu_mlops/s4_debugging_and_logging/exercise_files/wandb/run-20230105_152956-k7u39tz5</code>"
      ],
      "text/plain": [
       "<IPython.core.display.HTML object>"
      ]
     },
     "metadata": {},
     "output_type": "display_data"
    },
    {
     "data": {
      "text/html": [
       "Syncing run <strong><a href=\"https://wandb.ai/dtu_ml_ops/wandb-test-loss/runs/k7u39tz5\" target=\"_blank\">neat-sound-13</a></strong> to <a href=\"https://wandb.ai/dtu_ml_ops/wandb-test-loss\" target=\"_blank\">Weights & Biases</a> (<a href=\"https://wandb.me/run\" target=\"_blank\">docs</a>)<br/>"
      ],
      "text/plain": [
       "<IPython.core.display.HTML object>"
      ]
     },
     "metadata": {},
     "output_type": "display_data"
    }
   ],
   "source": [
    "import wandb\n",
    "import torch\n",
    "import numpy as np\n",
    "import torch.nn as nn\n",
    "import torchvision.transforms as transforms\n",
    "from torch.utils.data import DataLoader\n",
    "from torchvision.datasets import MNIST\n",
    "import matplotlib.pyplot as plt\n",
    "\n",
    "# initialize wandb\n",
    "wandb.init(project='wandb-test-loss')\n",
    "# evaluate the training loss\n",
    "\"\"\"\n",
    "Adapted from\n",
    "https://github.com/Jackson-Kang/Pytorch-VAE-tutorial/blob/master/01_Variational_AutoEncoder.ipynb\n",
    "\n",
    "A simple implementation of Gaussian MLP Encoder and Decoder trained on MNIST\n",
    "\"\"\"\n",
    "\n",
    "# Model Hyperparameters\n",
    "dataset_path = 'datasets'\n",
    "cuda = torch.cuda.is_available()\n",
    "DEVICE = torch.device(\"cuda\" if cuda else \"cpu\")\n",
    "batch_size = 100\n",
    "x_dim  = 784\n",
    "hidden_dim = 400\n",
    "latent_dim = 20\n",
    "lr = 1e-3\n",
    "epochs = 5\n",
    "\n",
    "\n",
    "# Data loading\n",
    "mnist_transform = transforms.Compose([transforms.ToTensor()])\n",
    "\n",
    "train_dataset = MNIST(dataset_path, transform=mnist_transform, train=True, download=True)\n",
    "test_dataset  = MNIST(dataset_path, transform=mnist_transform, train=False, download=True)\n",
    "\n",
    "train_loader = DataLoader(dataset=train_dataset, batch_size=batch_size, shuffle=True)\n",
    "test_loader  = DataLoader(dataset=test_dataset,  batch_size=batch_size, shuffle=False)\n",
    "\n",
    "class Encoder(nn.Module):  \n",
    "    def __init__(self, input_dim, hidden_dim, latent_dim):\n",
    "        super(Encoder, self).__init__()\n",
    "        \n",
    "        self.FC_input = nn.Linear(input_dim, hidden_dim)\n",
    "        self.FC_mean  = nn.Linear(hidden_dim, latent_dim)\n",
    "        self.FC_var   = nn.Linear (hidden_dim, latent_dim)\n",
    "        self.training = True\n",
    "        \n",
    "    def forward(self, x):\n",
    "        h_       = torch.relu(self.FC_input(x))\n",
    "        mean     = self.FC_mean(h_)\n",
    "        log_var  = self.FC_var(h_)                     \n",
    "                                                      \n",
    "        std      = torch.exp(0.5*log_var)             \n",
    "        z        = self.reparameterization(mean, std)\n",
    "        \n",
    "        return z, mean, log_var\n",
    "       \n",
    "    def reparameterization(self, mean, std,):\n",
    "        epsilon = torch.randn_like(std)\n",
    "        \n",
    "        z = mean + std*epsilon\n",
    "        \n",
    "        return z\n",
    "    \n",
    "class Decoder(nn.Module):\n",
    "    def __init__(self, latent_dim, hidden_dim, output_dim):\n",
    "        super(Decoder, self).__init__()\n",
    "        self.FC_hidden = nn.Linear(latent_dim, hidden_dim)\n",
    "        self.FC_output = nn.Linear(hidden_dim, output_dim)\n",
    "        \n",
    "    def forward(self, x):\n",
    "        h     = torch.relu(self.FC_hidden(x))\n",
    "        x_hat = torch.sigmoid(self.FC_output(h))\n",
    "        return x_hat\n",
    "    \n",
    "    \n",
    "class Model(nn.Module):\n",
    "    def __init__(self, Encoder, Decoder):\n",
    "        super(Model, self).__init__()\n",
    "        self.Encoder = Encoder\n",
    "        self.Decoder = Decoder\n",
    "                \n",
    "    def forward(self, x):\n",
    "        z, mean, log_var = self.Encoder(x)\n",
    "        x_hat            = self.Decoder(z)\n",
    "        \n",
    "        return x_hat, mean, log_var\n",
    "    \n",
    "encoder = Encoder(input_dim=x_dim, hidden_dim=hidden_dim, latent_dim=latent_dim)\n",
    "decoder = Decoder(latent_dim=latent_dim, hidden_dim = hidden_dim, output_dim = x_dim)\n",
    "\n",
    "model = Model(Encoder=encoder, Decoder=decoder).to(DEVICE)\n",
    "\n",
    "from torch.optim import Adam\n",
    "\n",
    "BCE_loss = nn.BCELoss()\n",
    "\n",
    "def loss_function(x, x_hat, mean, log_var):\n",
    "    reproduction_loss = nn.functional.binary_cross_entropy(x_hat, x, reduction='sum')\n",
    "    KLD      = - 0.5 * torch.sum(1+ log_var - mean.pow(2) - log_var.exp())\n",
    "\n",
    "    return reproduction_loss + KLD\n",
    "\n",
    "optimizer = Adam(model.parameters(), lr=lr)\n"
   ]
  },
  {
   "cell_type": "code",
   "execution_count": 17,
   "metadata": {},
   "outputs": [
    {
     "name": "stdout",
     "output_type": "stream",
     "text": [
      "Start training VAE...\n",
      "\tEpoch 1 complete! \tAverage Loss:  106.72890655976106\n",
      "\tEpoch 2 complete! \tAverage Loss:  106.3687057041684\n",
      "\tEpoch 3 complete! \tAverage Loss:  105.99421297866236\n",
      "Finish!!\n"
     ]
    }
   ],
   "source": [
    "print(\"Start training VAE...\")\n",
    "epochs=3\n",
    "model.train()\n",
    "average_losses = []\n",
    "for epoch in range(epochs):\n",
    "    overall_loss = 0\n",
    "    for batch_idx, (x, _) in enumerate(train_loader):\n",
    "        x = x.view(batch_size, x_dim)\n",
    "        x = x.to(DEVICE)\n",
    "\n",
    "        optimizer.zero_grad()\n",
    "\n",
    "        x_hat, mean, log_var = model(x)\n",
    "        loss = loss_function(x, x_hat, mean, log_var)\n",
    "        \n",
    "        overall_loss += loss.item()\n",
    "        # log overall loss to wandb\n",
    "        # wandb.log({\"loss\":loss}) #, commit=False)   \n",
    "        \n",
    "        loss.backward()\n",
    "        optimizer.step()\n",
    "    print(\"\\tEpoch\", epoch + 1, \"complete!\", \"\\tAverage Loss: \", overall_loss / (batch_idx*batch_size))    \n",
    "    # average_loss = (overall_loss / (batch_idx*batch_size))\n",
    "    average_losses.append(overall_loss / (batch_idx*batch_size))\n",
    "print(\"Finish!!\")"
   ]
  },
  {
   "cell_type": "code",
   "execution_count": 18,
   "metadata": {},
   "outputs": [
    {
     "data": {
      "text/plain": [
       "[106.72890655976106, 106.3687057041684, 105.99421297866236]"
      ]
     },
     "execution_count": 18,
     "metadata": {},
     "output_type": "execute_result"
    }
   ],
   "source": [
    "average_losses"
   ]
  },
  {
   "cell_type": "code",
   "execution_count": 25,
   "metadata": {},
   "outputs": [],
   "source": [
    "x=[1,2,3]"
   ]
  },
  {
   "cell_type": "code",
   "execution_count": 28,
   "metadata": {},
   "outputs": [
    {
     "data": {
      "text/plain": [
       "[<matplotlib.lines.Line2D at 0x7f961dbeb280>]"
      ]
     },
     "execution_count": 28,
     "metadata": {},
     "output_type": "execute_result"
    },
    {
     "data": {
      "image/png": "[encoded data removed]",
      "text/plain": [
       "<Figure size 432x288 with 1 Axes>"
      ]
     },
     "metadata": {
      "needs_background": "light"
     },
     "output_type": "display_data"
    }
   ],
   "source": [
    "plt.plot(x,average_losses)"
   ]
  },
  {
   "cell_type": "code",
   "execution_count": 39,
   "metadata": {},
   "outputs": [
    {
     "data": {
      "image/png": "[encoded data removed]",
      "text/plain": [
       "<Figure size 432x288 with 1 Axes>"
      ]
     },
     "metadata": {
      "needs_background": "light"
     },
     "output_type": "display_data"
    }
   ],
   "source": [
    "x = [1,2,3,4,5]\n",
    "plt.plot(x,average_losses)\n",
    "plt.title('Average loss along epochs')\n",
    "plt.xlabel('epoch')\n",
    "plt.ylabel('Average loss')\n",
    "plt.locator_params(axis=\"both\", integer=True, tight=True)\n",
    "plt.ylim(ymin=0)\n",
    "plt.show()\n",
    "wandb.log({\"Average_loss\": plt}) #, commit=False)\n"
   ]
  },
  {
   "cell_type": "code",
   "execution_count": null,
   "metadata": {},
   "outputs": [],
   "source": [
    "\n",
    "# Generate reconstructions\n",
    "model.eval()\n",
    "with torch.no_grad():\n",
    "    for batch_idx, (x, _) in enumerate(test_loader):\n",
    "        x = x.view(batch_size, x_dim)\n",
    "        x = x.to(DEVICE)      \n",
    "        x_hat, _, _ = model(x)       \n",
    "        break\n",
    "\n",
    "save_image(x.view(batch_size, 1, 28, 28), 'orig_data.png')\n",
    "save_image(x_hat.view(batch_size, 1, 28, 28), 'reconstructions.png')\n",
    "\n",
    "wandb.log({\"orig_data\": wandb.Image(\"orig_data.png\")}) #, commit=False)\n",
    "wandb.log({\"reconstruction\": wandb.Image(\"reconstructions.png\")}) #, commit=False)\n",
    "\n",
    "\n",
    "wandb.finish()"
   ]
  },
  {
   "cell_type": "code",
   "execution_count": 4,
   "metadata": {},
   "outputs": [
    {
     "data": {
      "text/html": [
       "Finishing last run (ID:2c9mu7y1) before initializing another..."
      ],
      "text/plain": [
       "<IPython.core.display.HTML object>"
      ]
     },
     "metadata": {},
     "output_type": "display_data"
    },
    {
     "data": {
      "text/html": [
       "Waiting for W&B process to finish... <strong style=\"color:green\">(success).</strong>"
      ],
      "text/plain": [
       "<IPython.core.display.HTML object>"
      ]
     },
     "metadata": {},
     "output_type": "display_data"
    },
    {
     "data": {
      "application/vnd.jupyter.widget-view+json": {
       "model_id": "d07b950bac514af7847067d5571d1340",
       "version_major": 2,
       "version_minor": 0
      },
      "text/plain": [
       "VBox(children=(Label(value='0.001 MB of 0.001 MB uploaded (0.000 MB deduped)\\r'), FloatProgress(value=1.0, max…"
      ]
     },
     "metadata": {},
     "output_type": "display_data"
    },
    {
     "data": {
      "text/html": [
       "Synced <strong style=\"color:#cdcd00\">cosmic-sun-20</strong>: <a href=\"https://wandb.ai/dtu_ml_ops/wandb-test-loss/runs/2c9mu7y1\" target=\"_blank\">https://wandb.ai/dtu_ml_ops/wandb-test-loss/runs/2c9mu7y1</a><br/>Synced 4 W&B file(s), 0 media file(s), 0 artifact file(s) and 0 other file(s)"
      ],
      "text/plain": [
       "<IPython.core.display.HTML object>"
      ]
     },
     "metadata": {},
     "output_type": "display_data"
    },
    {
     "data": {
      "text/html": [
       "Find logs at: <code>./wandb/run-20230105_160035-2c9mu7y1/logs</code>"
      ],
      "text/plain": [
       "<IPython.core.display.HTML object>"
      ]
     },
     "metadata": {},
     "output_type": "display_data"
    },
    {
     "data": {
      "text/html": [
       "Successfully finished last run (ID:2c9mu7y1). Initializing new run:<br/>"
      ],
      "text/plain": [
       "<IPython.core.display.HTML object>"
      ]
     },
     "metadata": {},
     "output_type": "display_data"
    },
    {
     "data": {
      "application/vnd.jupyter.widget-view+json": {
       "model_id": "794434fb170d4221859c46f059fe3c17",
       "version_major": 2,
       "version_minor": 0
      },
      "text/plain": [
       "VBox(children=(Label(value='Waiting for wandb.init()...\\r'), FloatProgress(value=0.016737679166667855, max=1.0…"
      ]
     },
     "metadata": {},
     "output_type": "display_data"
    },
    {
     "data": {
      "text/html": [
       "Tracking run with wandb version 0.13.7"
      ],
      "text/plain": [
       "<IPython.core.display.HTML object>"
      ]
     },
     "metadata": {},
     "output_type": "display_data"
    },
    {
     "data": {
      "text/html": [
       "Run data is saved locally in <code>/Users/alaina/Desktop/classes/2023Jan/dtu_mlops/s4_debugging_and_logging/exercise_files/wandb/run-20230105_160615-76sh6iwj</code>"
      ],
      "text/plain": [
       "<IPython.core.display.HTML object>"
      ]
     },
     "metadata": {},
     "output_type": "display_data"
    },
    {
     "data": {
      "text/html": [
       "Syncing run <strong><a href=\"https://wandb.ai/dtu_ml_ops/wandb-test-loss/runs/76sh6iwj\" target=\"_blank\">iconic-water-21</a></strong> to <a href=\"https://wandb.ai/dtu_ml_ops/wandb-test-loss\" target=\"_blank\">Weights & Biases</a> (<a href=\"https://wandb.me/run\" target=\"_blank\">docs</a>)<br/>"
      ],
      "text/plain": [
       "<IPython.core.display.HTML object>"
      ]
     },
     "metadata": {},
     "output_type": "display_data"
    },
    {
     "ename": "TypeError",
     "evalue": "line() missing 1 required positional argument: 'y'",
     "output_type": "error",
     "traceback": [
      "\u001b[0;31m---------------------------------------------------------------------------\u001b[0m",
      "\u001b[0;31mTypeError\u001b[0m                                 Traceback (most recent call last)",
      "\u001b[1;32m/Users/alaina/Desktop/classes/2023Jan/dtu_mlops/s4_debugging_and_logging/exercise_files/wandb_notebook_test.ipynb Cell 8\u001b[0m in \u001b[0;36m<cell line: 6>\u001b[0;34m()\u001b[0m\n\u001b[1;32m      <a href='vscode-notebook-cell:/Users/alaina/Desktop/classes/2023Jan/dtu_mlops/s4_debugging_and_logging/exercise_files/wandb_notebook_test.ipynb#X11sZmlsZQ%3D%3D?line=3'>4</a>\u001b[0m data \u001b[39m=\u001b[39m [[x, y]]\n\u001b[1;32m      <a href='vscode-notebook-cell:/Users/alaina/Desktop/classes/2023Jan/dtu_mlops/s4_debugging_and_logging/exercise_files/wandb_notebook_test.ipynb#X11sZmlsZQ%3D%3D?line=4'>5</a>\u001b[0m \u001b[39m# table = wandb.Table(data=data, columns = [\"x\", \"y\"])\u001b[39;00m\n\u001b[0;32m----> <a href='vscode-notebook-cell:/Users/alaina/Desktop/classes/2023Jan/dtu_mlops/s4_debugging_and_logging/exercise_files/wandb_notebook_test.ipynb#X11sZmlsZQ%3D%3D?line=5'>6</a>\u001b[0m wandb\u001b[39m.\u001b[39mlog({\u001b[39m\"\u001b[39m\u001b[39mmy_custom_plot_id\u001b[39m\u001b[39m\"\u001b[39m : wandb\u001b[39m.\u001b[39;49mplot\u001b[39m.\u001b[39;49mline(x,y,\n\u001b[1;32m      <a href='vscode-notebook-cell:/Users/alaina/Desktop/classes/2023Jan/dtu_mlops/s4_debugging_and_logging/exercise_files/wandb_notebook_test.ipynb#X11sZmlsZQ%3D%3D?line=6'>7</a>\u001b[0m            title\u001b[39m=\u001b[39;49m\u001b[39m\"\u001b[39;49m\u001b[39mCustom Y vs X Line Plot\u001b[39;49m\u001b[39m\"\u001b[39;49m)})\n",
      "\u001b[0;31mTypeError\u001b[0m: line() missing 1 required positional argument: 'y'"
     ]
    }
   ],
   "source": [
    "wandb.init(project='wandb-test-loss')\n",
    "x = [1,2,3,4,5]\n",
    "y = [10,20,30,20,70]\n",
    "data = [[x, y]]\n",
    "# table = wandb.Table(data=data, columns = [\"x\", \"y\"])\n",
    "wandb.log({\"my_custom_plot_id\" : wandb.plot.line(x,y,\n",
    "           title=\"Custom Y vs X Line Plot\")})"
   ]
  },
  {
   "cell_type": "code",
   "execution_count": 1,
   "metadata": {},
   "outputs": [
    {
     "name": "stderr",
     "output_type": "stream",
     "text": [
      "\u001b[34m\u001b[1mwandb\u001b[0m: Currently logged in as: \u001b[33malaym3\u001b[0m (\u001b[33mdtu_ml_ops\u001b[0m). Use \u001b[1m`wandb login --relogin`\u001b[0m to force relogin\n"
     ]
    },
    {
     "data": {
      "text/html": [
       "Tracking run with wandb version 0.13.7"
      ],
      "text/plain": [
       "<IPython.core.display.HTML object>"
      ]
     },
     "metadata": {},
     "output_type": "display_data"
    },
    {
     "data": {
      "text/html": [
       "Run data is saved locally in <code>/Users/alaina/Desktop/classes/2023Jan/dtu_mlops/s4_debugging_and_logging/exercise_files/wandb/run-20230105_155355-2b0vodit</code>"
      ],
      "text/plain": [
       "<IPython.core.display.HTML object>"
      ]
     },
     "metadata": {},
     "output_type": "display_data"
    },
    {
     "data": {
      "text/html": [
       "Syncing run <strong><a href=\"https://wandb.ai/dtu_ml_ops/wandb-test-loss/runs/2b0vodit\" target=\"_blank\">exalted-durian-18</a></strong> to <a href=\"https://wandb.ai/dtu_ml_ops/wandb-test-loss\" target=\"_blank\">Weights & Biases</a> (<a href=\"https://wandb.me/run\" target=\"_blank\">docs</a>)<br/>"
      ],
      "text/plain": [
       "<IPython.core.display.HTML object>"
      ]
     },
     "metadata": {},
     "output_type": "display_data"
    },
    {
     "name": "stdout",
     "output_type": "stream",
     "text": [
      "Start training VAE...\n",
      "\tEpoch 1 complete! \tAverage Loss:  157.63877253104133\n",
      "\tEpoch 2 complete! \tAverage Loss:  119.56995448142737\n",
      "Finish!!\n"
     ]
    },
    {
     "data": {
      "image/png": "[encoded data removed]",
      "text/plain": [
       "<Figure size 432x288 with 1 Axes>"
      ]
     },
     "metadata": {
      "needs_background": "light"
     },
     "output_type": "display_data"
    },
    {
     "ename": "ValueError",
     "evalue": "min() arg is an empty sequence",
     "output_type": "error",
     "traceback": [
      "\u001b[0;31m---------------------------------------------------------------------------\u001b[0m",
      "\u001b[0;31mValueError\u001b[0m                                Traceback (most recent call last)",
      "\u001b[1;32m/Users/alaina/Desktop/classes/2023Jan/dtu_mlops/s4_debugging_and_logging/exercise_files/wandb_notebook_test.ipynb Cell 8\u001b[0m in \u001b[0;36m<cell line: 140>\u001b[0;34m()\u001b[0m\n\u001b[1;32m    <a href='vscode-notebook-cell:/Users/alaina/Desktop/classes/2023Jan/dtu_mlops/s4_debugging_and_logging/exercise_files/wandb_notebook_test.ipynb#X10sZmlsZQ%3D%3D?line=137'>138</a>\u001b[0m \u001b[39m# plt.ylim(bottom=0)\u001b[39;00m\n\u001b[1;32m    <a href='vscode-notebook-cell:/Users/alaina/Desktop/classes/2023Jan/dtu_mlops/s4_debugging_and_logging/exercise_files/wandb_notebook_test.ipynb#X10sZmlsZQ%3D%3D?line=138'>139</a>\u001b[0m plt\u001b[39m.\u001b[39mshow()\n\u001b[0;32m--> <a href='vscode-notebook-cell:/Users/alaina/Desktop/classes/2023Jan/dtu_mlops/s4_debugging_and_logging/exercise_files/wandb_notebook_test.ipynb#X10sZmlsZQ%3D%3D?line=139'>140</a>\u001b[0m wandb\u001b[39m.\u001b[39;49mlog({\u001b[39m\"\u001b[39;49m\u001b[39mAverage_loss\u001b[39;49m\u001b[39m\"\u001b[39;49m: plt}) \u001b[39m#, commit=False)\u001b[39;00m\n\u001b[1;32m    <a href='vscode-notebook-cell:/Users/alaina/Desktop/classes/2023Jan/dtu_mlops/s4_debugging_and_logging/exercise_files/wandb_notebook_test.ipynb#X10sZmlsZQ%3D%3D?line=141'>142</a>\u001b[0m wandb\u001b[39m.\u001b[39mlog({\u001b[39m\"\u001b[39m\u001b[39mAverage_loss\u001b[39m\u001b[39m\"\u001b[39m: plt}) \u001b[39m#, commit=False)\u001b[39;00m\n\u001b[1;32m    <a href='vscode-notebook-cell:/Users/alaina/Desktop/classes/2023Jan/dtu_mlops/s4_debugging_and_logging/exercise_files/wandb_notebook_test.ipynb#X10sZmlsZQ%3D%3D?line=143'>144</a>\u001b[0m \u001b[39m# Generate reconstructions\u001b[39;00m\n",
      "File \u001b[0;32m~/opt/anaconda3/envs/venv1/lib/python3.8/site-packages/wandb/sdk/wandb_run.py:292\u001b[0m, in \u001b[0;36m_run_decorator._noop.<locals>.wrapper\u001b[0;34m(self, *args, **kwargs)\u001b[0m\n\u001b[1;32m    289\u001b[0m         wandb\u001b[39m.\u001b[39mtermwarn(message, repeat\u001b[39m=\u001b[39m\u001b[39mFalse\u001b[39;00m)\n\u001b[1;32m    290\u001b[0m         \u001b[39mreturn\u001b[39;00m \u001b[39mcls\u001b[39m\u001b[39m.\u001b[39mDummy()\n\u001b[0;32m--> 292\u001b[0m \u001b[39mreturn\u001b[39;00m func(\u001b[39mself\u001b[39;49m, \u001b[39m*\u001b[39;49margs, \u001b[39m*\u001b[39;49m\u001b[39m*\u001b[39;49mkwargs)\n",
      "File \u001b[0;32m~/opt/anaconda3/envs/venv1/lib/python3.8/site-packages/wandb/sdk/wandb_run.py:255\u001b[0m, in \u001b[0;36m_run_decorator._attach.<locals>.wrapper\u001b[0;34m(self, *args, **kwargs)\u001b[0m\n\u001b[1;32m    253\u001b[0m         \u001b[39mraise\u001b[39;00m e\n\u001b[1;32m    254\u001b[0m     \u001b[39mcls\u001b[39m\u001b[39m.\u001b[39m_is_attaching \u001b[39m=\u001b[39m \u001b[39m\"\u001b[39m\u001b[39m\"\u001b[39m\n\u001b[0;32m--> 255\u001b[0m \u001b[39mreturn\u001b[39;00m func(\u001b[39mself\u001b[39;49m, \u001b[39m*\u001b[39;49margs, \u001b[39m*\u001b[39;49m\u001b[39m*\u001b[39;49mkwargs)\n",
      "File \u001b[0;32m~/opt/anaconda3/envs/venv1/lib/python3.8/site-packages/wandb/sdk/wandb_run.py:1612\u001b[0m, in \u001b[0;36mRun.log\u001b[0;34m(self, data, step, commit, sync)\u001b[0m\n\u001b[1;32m   1605\u001b[0m \u001b[39mif\u001b[39;00m sync \u001b[39mis\u001b[39;00m \u001b[39mnot\u001b[39;00m \u001b[39mNone\u001b[39;00m:\n\u001b[1;32m   1606\u001b[0m     deprecate\u001b[39m.\u001b[39mdeprecate(\n\u001b[1;32m   1607\u001b[0m         field_name\u001b[39m=\u001b[39mdeprecate\u001b[39m.\u001b[39mDeprecated\u001b[39m.\u001b[39mrun__log_sync,\n\u001b[1;32m   1608\u001b[0m         warning_message\u001b[39m=\u001b[39m(\n\u001b[1;32m   1609\u001b[0m             \u001b[39m\"\u001b[39m\u001b[39m`sync` argument is deprecated and does not affect the behaviour of `wandb.log`\u001b[39m\u001b[39m\"\u001b[39m\n\u001b[1;32m   1610\u001b[0m         ),\n\u001b[1;32m   1611\u001b[0m     )\n\u001b[0;32m-> 1612\u001b[0m \u001b[39mself\u001b[39;49m\u001b[39m.\u001b[39;49m_log(data\u001b[39m=\u001b[39;49mdata, step\u001b[39m=\u001b[39;49mstep, commit\u001b[39m=\u001b[39;49mcommit)\n",
      "File \u001b[0;32m~/opt/anaconda3/envs/venv1/lib/python3.8/site-packages/wandb/sdk/wandb_run.py:1394\u001b[0m, in \u001b[0;36mRun._log\u001b[0;34m(self, data, step, commit)\u001b[0m\n\u001b[1;32m   1391\u001b[0m \u001b[39mif\u001b[39;00m \u001b[39many\u001b[39m(\u001b[39mnot\u001b[39;00m \u001b[39misinstance\u001b[39m(key, \u001b[39mstr\u001b[39m) \u001b[39mfor\u001b[39;00m key \u001b[39min\u001b[39;00m data\u001b[39m.\u001b[39mkeys()):\n\u001b[1;32m   1392\u001b[0m     \u001b[39mraise\u001b[39;00m \u001b[39mValueError\u001b[39;00m(\u001b[39m\"\u001b[39m\u001b[39mKey values passed to `wandb.log` must be strings.\u001b[39m\u001b[39m\"\u001b[39m)\n\u001b[0;32m-> 1394\u001b[0m \u001b[39mself\u001b[39;49m\u001b[39m.\u001b[39;49m_partial_history_callback(data, step, commit)\n\u001b[1;32m   1396\u001b[0m \u001b[39mif\u001b[39;00m step \u001b[39mis\u001b[39;00m \u001b[39mnot\u001b[39;00m \u001b[39mNone\u001b[39;00m:\n\u001b[1;32m   1397\u001b[0m     \u001b[39mif\u001b[39;00m os\u001b[39m.\u001b[39mgetpid() \u001b[39m!=\u001b[39m \u001b[39mself\u001b[39m\u001b[39m.\u001b[39m_init_pid \u001b[39mor\u001b[39;00m \u001b[39mself\u001b[39m\u001b[39m.\u001b[39m_is_attached:\n",
      "File \u001b[0;32m~/opt/anaconda3/envs/venv1/lib/python3.8/site-packages/wandb/sdk/wandb_run.py:1278\u001b[0m, in \u001b[0;36mRun._partial_history_callback\u001b[0;34m(self, row, step, commit)\u001b[0m\n\u001b[1;32m   1275\u001b[0m \u001b[39mif\u001b[39;00m \u001b[39mself\u001b[39m\u001b[39m.\u001b[39m_backend \u001b[39mand\u001b[39;00m \u001b[39mself\u001b[39m\u001b[39m.\u001b[39m_backend\u001b[39m.\u001b[39minterface:\n\u001b[1;32m   1276\u001b[0m     not_using_tensorboard \u001b[39m=\u001b[39m \u001b[39mlen\u001b[39m(wandb\u001b[39m.\u001b[39mpatched[\u001b[39m\"\u001b[39m\u001b[39mtensorboard\u001b[39m\u001b[39m\"\u001b[39m]) \u001b[39m==\u001b[39m \u001b[39m0\u001b[39m\n\u001b[0;32m-> 1278\u001b[0m     \u001b[39mself\u001b[39;49m\u001b[39m.\u001b[39;49m_backend\u001b[39m.\u001b[39;49minterface\u001b[39m.\u001b[39;49mpublish_partial_history(\n\u001b[1;32m   1279\u001b[0m         row,\n\u001b[1;32m   1280\u001b[0m         user_step\u001b[39m=\u001b[39;49m\u001b[39mself\u001b[39;49m\u001b[39m.\u001b[39;49m_step,\n\u001b[1;32m   1281\u001b[0m         step\u001b[39m=\u001b[39;49mstep,\n\u001b[1;32m   1282\u001b[0m         flush\u001b[39m=\u001b[39;49mcommit,\n\u001b[1;32m   1283\u001b[0m         publish_step\u001b[39m=\u001b[39;49mnot_using_tensorboard,\n\u001b[1;32m   1284\u001b[0m     )\n",
      "File \u001b[0;32m~/opt/anaconda3/envs/venv1/lib/python3.8/site-packages/wandb/sdk/interface/interface.py:544\u001b[0m, in \u001b[0;36mInterfaceBase.publish_partial_history\u001b[0;34m(self, data, user_step, step, flush, publish_step, run)\u001b[0m\n\u001b[1;32m    533\u001b[0m \u001b[39mdef\u001b[39;00m \u001b[39mpublish_partial_history\u001b[39m(\n\u001b[1;32m    534\u001b[0m     \u001b[39mself\u001b[39m,\n\u001b[1;32m    535\u001b[0m     data: \u001b[39mdict\u001b[39m,\n\u001b[0;32m   (...)\u001b[0m\n\u001b[1;32m    540\u001b[0m     run: Optional[\u001b[39m\"\u001b[39m\u001b[39mRun\u001b[39m\u001b[39m\"\u001b[39m] \u001b[39m=\u001b[39m \u001b[39mNone\u001b[39;00m,\n\u001b[1;32m    541\u001b[0m ) \u001b[39m-\u001b[39m\u001b[39m>\u001b[39m \u001b[39mNone\u001b[39;00m:\n\u001b[1;32m    542\u001b[0m     run \u001b[39m=\u001b[39m run \u001b[39mor\u001b[39;00m \u001b[39mself\u001b[39m\u001b[39m.\u001b[39m_run\n\u001b[0;32m--> 544\u001b[0m     data \u001b[39m=\u001b[39m history_dict_to_json(run, data, step\u001b[39m=\u001b[39;49muser_step, ignore_copy_err\u001b[39m=\u001b[39;49m\u001b[39mTrue\u001b[39;49;00m)\n\u001b[1;32m    545\u001b[0m     data\u001b[39m.\u001b[39mpop(\u001b[39m\"\u001b[39m\u001b[39m_step\u001b[39m\u001b[39m\"\u001b[39m, \u001b[39mNone\u001b[39;00m)\n\u001b[1;32m    547\u001b[0m     \u001b[39m# add timestamp to the history request, if not already present\u001b[39;00m\n\u001b[1;32m    548\u001b[0m     \u001b[39m# the timestamp might come from the tensorboard log logic\u001b[39;00m\n",
      "File \u001b[0;32m~/opt/anaconda3/envs/venv1/lib/python3.8/site-packages/wandb/sdk/data_types/utils.py:52\u001b[0m, in \u001b[0;36mhistory_dict_to_json\u001b[0;34m(run, payload, step, ignore_copy_err)\u001b[0m\n\u001b[1;32m     48\u001b[0m         payload[key] \u001b[39m=\u001b[39m history_dict_to_json(\n\u001b[1;32m     49\u001b[0m             run, val, step\u001b[39m=\u001b[39mstep, ignore_copy_err\u001b[39m=\u001b[39mignore_copy_err\n\u001b[1;32m     50\u001b[0m         )\n\u001b[1;32m     51\u001b[0m     \u001b[39melse\u001b[39;00m:\n\u001b[0;32m---> 52\u001b[0m         payload[key] \u001b[39m=\u001b[39m val_to_json(\n\u001b[1;32m     53\u001b[0m             run, key, val, namespace\u001b[39m=\u001b[39;49mstep, ignore_copy_err\u001b[39m=\u001b[39;49mignore_copy_err\n\u001b[1;32m     54\u001b[0m         )\n\u001b[1;32m     56\u001b[0m \u001b[39mreturn\u001b[39;00m payload\n",
      "File \u001b[0;32m~/opt/anaconda3/envs/venv1/lib/python3.8/site-packages/wandb/sdk/data_types/utils.py:80\u001b[0m, in \u001b[0;36mval_to_json\u001b[0;34m(run, key, val, namespace, ignore_copy_err)\u001b[0m\n\u001b[1;32m     77\u001b[0m     val \u001b[39m=\u001b[39m wandb\u001b[39m.\u001b[39mTable(dataframe\u001b[39m=\u001b[39mval)\n\u001b[1;32m     79\u001b[0m \u001b[39melif\u001b[39;00m util\u001b[39m.\u001b[39mis_matplotlib_typename(typename) \u001b[39mor\u001b[39;00m util\u001b[39m.\u001b[39mis_plotly_typename(typename):\n\u001b[0;32m---> 80\u001b[0m     val \u001b[39m=\u001b[39m Plotly\u001b[39m.\u001b[39;49mmake_plot_media(val)\n\u001b[1;32m     81\u001b[0m \u001b[39melif\u001b[39;00m \u001b[39misinstance\u001b[39m(val, Sequence) \u001b[39mand\u001b[39;00m \u001b[39mall\u001b[39m(\u001b[39misinstance\u001b[39m(v, WBValue) \u001b[39mfor\u001b[39;00m v \u001b[39min\u001b[39;00m val):\n\u001b[1;32m     82\u001b[0m     \u001b[39massert\u001b[39;00m run\n",
      "File \u001b[0;32m~/opt/anaconda3/envs/venv1/lib/python3.8/site-packages/wandb/sdk/data_types/plotly.py:48\u001b[0m, in \u001b[0;36mPlotly.make_plot_media\u001b[0;34m(cls, val)\u001b[0m\n\u001b[1;32m     46\u001b[0m     \u001b[39mif\u001b[39;00m util\u001b[39m.\u001b[39mmatplotlib_contains_images(val):\n\u001b[1;32m     47\u001b[0m         \u001b[39mreturn\u001b[39;00m Image(val)\n\u001b[0;32m---> 48\u001b[0m     val \u001b[39m=\u001b[39m util\u001b[39m.\u001b[39;49mmatplotlib_to_plotly(val)\n\u001b[1;32m     49\u001b[0m \u001b[39mreturn\u001b[39;00m \u001b[39mcls\u001b[39m(val)\n",
      "File \u001b[0;32m~/opt/anaconda3/envs/venv1/lib/python3.8/site-packages/wandb/util.py:608\u001b[0m, in \u001b[0;36mmatplotlib_to_plotly\u001b[0;34m(obj)\u001b[0m\n\u001b[1;32m    600\u001b[0m obj \u001b[39m=\u001b[39m ensure_matplotlib_figure(obj)\n\u001b[1;32m    601\u001b[0m tools \u001b[39m=\u001b[39m get_module(\n\u001b[1;32m    602\u001b[0m     \u001b[39m\"\u001b[39m\u001b[39mplotly.tools\u001b[39m\u001b[39m\"\u001b[39m,\n\u001b[1;32m    603\u001b[0m     required\u001b[39m=\u001b[39m(\n\u001b[0;32m   (...)\u001b[0m\n\u001b[1;32m    606\u001b[0m     ),\n\u001b[1;32m    607\u001b[0m )\n\u001b[0;32m--> 608\u001b[0m \u001b[39mreturn\u001b[39;00m tools\u001b[39m.\u001b[39;49mmpl_to_plotly(obj)\n",
      "File \u001b[0;32m~/opt/anaconda3/envs/venv1/lib/python3.8/site-packages/plotly/tools.py:111\u001b[0m, in \u001b[0;36mmpl_to_plotly\u001b[0;34m(fig, resize, strip_style, verbose)\u001b[0m\n\u001b[1;32m    109\u001b[0m \u001b[39mif\u001b[39;00m matplotlylib:\n\u001b[1;32m    110\u001b[0m     renderer \u001b[39m=\u001b[39m matplotlylib\u001b[39m.\u001b[39mPlotlyRenderer()\n\u001b[0;32m--> 111\u001b[0m     matplotlylib\u001b[39m.\u001b[39;49mExporter(renderer)\u001b[39m.\u001b[39;49mrun(fig)\n\u001b[1;32m    112\u001b[0m     \u001b[39mif\u001b[39;00m resize:\n\u001b[1;32m    113\u001b[0m         renderer\u001b[39m.\u001b[39mresize()\n",
      "File \u001b[0;32m~/opt/anaconda3/envs/venv1/lib/python3.8/site-packages/plotly/matplotlylib/mplexporter/exporter.py:53\u001b[0m, in \u001b[0;36mExporter.run\u001b[0;34m(self, fig)\u001b[0m\n\u001b[1;32m     50\u001b[0m     \u001b[39mimport\u001b[39;00m \u001b[39mmatplotlib\u001b[39;00m\u001b[39m.\u001b[39;00m\u001b[39mpyplot\u001b[39;00m \u001b[39mas\u001b[39;00m \u001b[39mplt\u001b[39;00m\n\u001b[1;32m     52\u001b[0m     plt\u001b[39m.\u001b[39mclose(fig)\n\u001b[0;32m---> 53\u001b[0m \u001b[39mself\u001b[39;49m\u001b[39m.\u001b[39;49mcrawl_fig(fig)\n",
      "File \u001b[0;32m~/opt/anaconda3/envs/venv1/lib/python3.8/site-packages/plotly/matplotlylib/mplexporter/exporter.py:122\u001b[0m, in \u001b[0;36mExporter.crawl_fig\u001b[0;34m(self, fig)\u001b[0m\n\u001b[1;32m    120\u001b[0m \u001b[39mdef\u001b[39;00m \u001b[39mcrawl_fig\u001b[39m(\u001b[39mself\u001b[39m, fig):\n\u001b[1;32m    121\u001b[0m \u001b[39m    \u001b[39m\u001b[39m\"\"\"Crawl the figure and process all axes\"\"\"\u001b[39;00m\n\u001b[0;32m--> 122\u001b[0m     \u001b[39mwith\u001b[39;00m \u001b[39mself\u001b[39m\u001b[39m.\u001b[39mrenderer\u001b[39m.\u001b[39mdraw_figure(fig\u001b[39m=\u001b[39mfig, props\u001b[39m=\u001b[39mutils\u001b[39m.\u001b[39mget_figure_properties(fig)):\n\u001b[1;32m    123\u001b[0m         \u001b[39mfor\u001b[39;00m ax \u001b[39min\u001b[39;00m fig\u001b[39m.\u001b[39maxes:\n\u001b[1;32m    124\u001b[0m             \u001b[39mself\u001b[39m\u001b[39m.\u001b[39mcrawl_ax(ax)\n",
      "File \u001b[0;32m~/opt/anaconda3/envs/venv1/lib/python3.8/contextlib.py:113\u001b[0m, in \u001b[0;36m_GeneratorContextManager.__enter__\u001b[0;34m(self)\u001b[0m\n\u001b[1;32m    111\u001b[0m \u001b[39mdel\u001b[39;00m \u001b[39mself\u001b[39m\u001b[39m.\u001b[39margs, \u001b[39mself\u001b[39m\u001b[39m.\u001b[39mkwds, \u001b[39mself\u001b[39m\u001b[39m.\u001b[39mfunc\n\u001b[1;32m    112\u001b[0m \u001b[39mtry\u001b[39;00m:\n\u001b[0;32m--> 113\u001b[0m     \u001b[39mreturn\u001b[39;00m \u001b[39mnext\u001b[39;49m(\u001b[39mself\u001b[39;49m\u001b[39m.\u001b[39;49mgen)\n\u001b[1;32m    114\u001b[0m \u001b[39mexcept\u001b[39;00m \u001b[39mStopIteration\u001b[39;00m:\n\u001b[1;32m    115\u001b[0m     \u001b[39mraise\u001b[39;00m \u001b[39mRuntimeError\u001b[39;00m(\u001b[39m\"\u001b[39m\u001b[39mgenerator didn\u001b[39m\u001b[39m'\u001b[39m\u001b[39mt yield\u001b[39m\u001b[39m\"\u001b[39m) \u001b[39mfrom\u001b[39;00m \u001b[39mNone\u001b[39m\n",
      "File \u001b[0;32m~/opt/anaconda3/envs/venv1/lib/python3.8/site-packages/plotly/matplotlylib/mplexporter/renderers/base.py:45\u001b[0m, in \u001b[0;36mRenderer.draw_figure\u001b[0;34m(self, fig, props)\u001b[0m\n\u001b[1;32m     43\u001b[0m \u001b[39mself\u001b[39m\u001b[39m.\u001b[39m_current_fig \u001b[39m=\u001b[39m fig\n\u001b[1;32m     44\u001b[0m \u001b[39mself\u001b[39m\u001b[39m.\u001b[39m_fig_props \u001b[39m=\u001b[39m props\n\u001b[0;32m---> 45\u001b[0m \u001b[39mself\u001b[39;49m\u001b[39m.\u001b[39;49mopen_figure(fig\u001b[39m=\u001b[39;49mfig, props\u001b[39m=\u001b[39;49mprops)\n\u001b[1;32m     46\u001b[0m \u001b[39myield\u001b[39;00m\n\u001b[1;32m     47\u001b[0m \u001b[39mself\u001b[39m\u001b[39m.\u001b[39mclose_figure(fig\u001b[39m=\u001b[39mfig)\n",
      "File \u001b[0;32m~/opt/anaconda3/envs/venv1/lib/python3.8/site-packages/plotly/matplotlylib/renderer.py:89\u001b[0m, in \u001b[0;36mPlotlyRenderer.open_figure\u001b[0;34m(self, fig, props)\u001b[0m\n\u001b[1;32m     82\u001b[0m \u001b[39mself\u001b[39m\u001b[39m.\u001b[39mmpl_fig \u001b[39m=\u001b[39m fig\n\u001b[1;32m     83\u001b[0m \u001b[39mself\u001b[39m\u001b[39m.\u001b[39mplotly_fig[\u001b[39m\"\u001b[39m\u001b[39mlayout\u001b[39m\u001b[39m\"\u001b[39m] \u001b[39m=\u001b[39m go\u001b[39m.\u001b[39mLayout(\n\u001b[1;32m     84\u001b[0m     width\u001b[39m=\u001b[39m\u001b[39mint\u001b[39m(props[\u001b[39m\"\u001b[39m\u001b[39mfigwidth\u001b[39m\u001b[39m\"\u001b[39m] \u001b[39m*\u001b[39m props[\u001b[39m\"\u001b[39m\u001b[39mdpi\u001b[39m\u001b[39m\"\u001b[39m]),\n\u001b[1;32m     85\u001b[0m     height\u001b[39m=\u001b[39m\u001b[39mint\u001b[39m(props[\u001b[39m\"\u001b[39m\u001b[39mfigheight\u001b[39m\u001b[39m\"\u001b[39m] \u001b[39m*\u001b[39m props[\u001b[39m\"\u001b[39m\u001b[39mdpi\u001b[39m\u001b[39m\"\u001b[39m]),\n\u001b[1;32m     86\u001b[0m     autosize\u001b[39m=\u001b[39m\u001b[39mFalse\u001b[39;00m,\n\u001b[1;32m     87\u001b[0m     hovermode\u001b[39m=\u001b[39m\u001b[39m\"\u001b[39m\u001b[39mclosest\u001b[39m\u001b[39m\"\u001b[39m,\n\u001b[1;32m     88\u001b[0m )\n\u001b[0;32m---> 89\u001b[0m \u001b[39mself\u001b[39m\u001b[39m.\u001b[39mmpl_x_bounds, \u001b[39mself\u001b[39m\u001b[39m.\u001b[39mmpl_y_bounds \u001b[39m=\u001b[39m mpltools\u001b[39m.\u001b[39;49mget_axes_bounds(fig)\n\u001b[1;32m     90\u001b[0m margin \u001b[39m=\u001b[39m go\u001b[39m.\u001b[39mlayout\u001b[39m.\u001b[39mMargin(\n\u001b[1;32m     91\u001b[0m     l\u001b[39m=\u001b[39m\u001b[39mint\u001b[39m(\u001b[39mself\u001b[39m\u001b[39m.\u001b[39mmpl_x_bounds[\u001b[39m0\u001b[39m] \u001b[39m*\u001b[39m \u001b[39mself\u001b[39m\u001b[39m.\u001b[39mplotly_fig[\u001b[39m\"\u001b[39m\u001b[39mlayout\u001b[39m\u001b[39m\"\u001b[39m][\u001b[39m\"\u001b[39m\u001b[39mwidth\u001b[39m\u001b[39m\"\u001b[39m]),\n\u001b[1;32m     92\u001b[0m     r\u001b[39m=\u001b[39m\u001b[39mint\u001b[39m((\u001b[39m1\u001b[39m \u001b[39m-\u001b[39m \u001b[39mself\u001b[39m\u001b[39m.\u001b[39mmpl_x_bounds[\u001b[39m1\u001b[39m]) \u001b[39m*\u001b[39m \u001b[39mself\u001b[39m\u001b[39m.\u001b[39mplotly_fig[\u001b[39m\"\u001b[39m\u001b[39mlayout\u001b[39m\u001b[39m\"\u001b[39m][\u001b[39m\"\u001b[39m\u001b[39mwidth\u001b[39m\u001b[39m\"\u001b[39m]),\n\u001b[0;32m   (...)\u001b[0m\n\u001b[1;32m     95\u001b[0m     pad\u001b[39m=\u001b[39m\u001b[39m0\u001b[39m,\n\u001b[1;32m     96\u001b[0m )\n\u001b[1;32m     97\u001b[0m \u001b[39mself\u001b[39m\u001b[39m.\u001b[39mplotly_fig[\u001b[39m\"\u001b[39m\u001b[39mlayout\u001b[39m\u001b[39m\"\u001b[39m][\u001b[39m\"\u001b[39m\u001b[39mmargin\u001b[39m\u001b[39m\"\u001b[39m] \u001b[39m=\u001b[39m margin\n",
      "File \u001b[0;32m~/opt/anaconda3/envs/venv1/lib/python3.8/site-packages/plotly/matplotlylib/mpltools.py:265\u001b[0m, in \u001b[0;36mget_axes_bounds\u001b[0;34m(fig)\u001b[0m\n\u001b[1;32m    263\u001b[0m     y_min\u001b[39m.\u001b[39mappend(bounds[\u001b[39m1\u001b[39m])\n\u001b[1;32m    264\u001b[0m     y_max\u001b[39m.\u001b[39mappend(bounds[\u001b[39m1\u001b[39m] \u001b[39m+\u001b[39m bounds[\u001b[39m3\u001b[39m])\n\u001b[0;32m--> 265\u001b[0m x_min, y_min, x_max, y_max \u001b[39m=\u001b[39m \u001b[39mmin\u001b[39;49m(x_min), \u001b[39mmin\u001b[39m(y_min), \u001b[39mmax\u001b[39m(x_max), \u001b[39mmax\u001b[39m(y_max)\n\u001b[1;32m    266\u001b[0m \u001b[39mreturn\u001b[39;00m (x_min, x_max), (y_min, y_max)\n",
      "\u001b[0;31mValueError\u001b[0m: min() arg is an empty sequence"
     ]
    }
   ],
   "source": [
    "import wandb\n",
    "import torch\n",
    "import torch.nn as nn\n",
    "import torchvision.transforms as transforms\n",
    "from torch.utils.data import DataLoader\n",
    "from torchvision.datasets import MNIST\n",
    "import matplotlib.pyplot as plt\n",
    "\n",
    "# initialize wandb\n",
    "wandb.init(project='wandb-test-loss')\n",
    "# evaluate the training loss\n",
    "\"\"\"\n",
    "Adapted from\n",
    "https://github.com/Jackson-Kang/Pytorch-VAE-tutorial/blob/master/01_Variational_AutoEncoder.ipynb\n",
    "\n",
    "A simple implementation of Gaussian MLP Encoder and Decoder trained on MNIST\n",
    "\"\"\"\n",
    "\n",
    "# Model Hyperparameters\n",
    "dataset_path = 'datasets'\n",
    "cuda = torch.cuda.is_available()\n",
    "DEVICE = torch.device(\"cuda\" if cuda else \"cpu\")\n",
    "batch_size = 100\n",
    "x_dim  = 784\n",
    "hidden_dim = 400\n",
    "latent_dim = 20\n",
    "lr = 1e-3\n",
    "epochs = 2\n",
    "\n",
    "\n",
    "# Data loading\n",
    "mnist_transform = transforms.Compose([transforms.ToTensor()])\n",
    "\n",
    "train_dataset = MNIST(dataset_path, transform=mnist_transform, train=True, download=True)\n",
    "test_dataset  = MNIST(dataset_path, transform=mnist_transform, train=False, download=True)\n",
    "\n",
    "train_loader = DataLoader(dataset=train_dataset, batch_size=batch_size, shuffle=True)\n",
    "test_loader  = DataLoader(dataset=test_dataset,  batch_size=batch_size, shuffle=False)\n",
    "\n",
    "class Encoder(nn.Module):  \n",
    "    def __init__(self, input_dim, hidden_dim, latent_dim):\n",
    "        super(Encoder, self).__init__()\n",
    "        \n",
    "        self.FC_input = nn.Linear(input_dim, hidden_dim)\n",
    "        self.FC_mean  = nn.Linear(hidden_dim, latent_dim)\n",
    "        self.FC_var   = nn.Linear (hidden_dim, latent_dim)\n",
    "        self.training = True\n",
    "        \n",
    "    def forward(self, x):\n",
    "        h_       = torch.relu(self.FC_input(x))\n",
    "        mean     = self.FC_mean(h_)\n",
    "        log_var  = self.FC_var(h_)                     \n",
    "                                                      \n",
    "        std      = torch.exp(0.5*log_var)             \n",
    "        z        = self.reparameterization(mean, std)\n",
    "        \n",
    "        return z, mean, log_var\n",
    "       \n",
    "    def reparameterization(self, mean, std,):\n",
    "        epsilon = torch.randn_like(std)\n",
    "        \n",
    "        z = mean + std*epsilon\n",
    "        \n",
    "        return z\n",
    "    \n",
    "class Decoder(nn.Module):\n",
    "    def __init__(self, latent_dim, hidden_dim, output_dim):\n",
    "        super(Decoder, self).__init__()\n",
    "        self.FC_hidden = nn.Linear(latent_dim, hidden_dim)\n",
    "        self.FC_output = nn.Linear(hidden_dim, output_dim)\n",
    "        \n",
    "    def forward(self, x):\n",
    "        h     = torch.relu(self.FC_hidden(x))\n",
    "        x_hat = torch.sigmoid(self.FC_output(h))\n",
    "        return x_hat\n",
    "    \n",
    "    \n",
    "class Model(nn.Module):\n",
    "    def __init__(self, Encoder, Decoder):\n",
    "        super(Model, self).__init__()\n",
    "        self.Encoder = Encoder\n",
    "        self.Decoder = Decoder\n",
    "                \n",
    "    def forward(self, x):\n",
    "        z, mean, log_var = self.Encoder(x)\n",
    "        x_hat            = self.Decoder(z)\n",
    "        \n",
    "        return x_hat, mean, log_var\n",
    "    \n",
    "encoder = Encoder(input_dim=x_dim, hidden_dim=hidden_dim, latent_dim=latent_dim)\n",
    "decoder = Decoder(latent_dim=latent_dim, hidden_dim = hidden_dim, output_dim = x_dim)\n",
    "\n",
    "model = Model(Encoder=encoder, Decoder=decoder).to(DEVICE)\n",
    "\n",
    "from torch.optim import Adam\n",
    "\n",
    "BCE_loss = nn.BCELoss()\n",
    "\n",
    "def loss_function(x, x_hat, mean, log_var):\n",
    "    reproduction_loss = nn.functional.binary_cross_entropy(x_hat, x, reduction='sum')\n",
    "    KLD      = - 0.5 * torch.sum(1+ log_var - mean.pow(2) - log_var.exp())\n",
    "\n",
    "    return reproduction_loss + KLD\n",
    "\n",
    "optimizer = Adam(model.parameters(), lr=lr)\n",
    "\n",
    "\n",
    "print(\"Start training VAE...\")\n",
    "model.train()\n",
    "average_losses=[]\n",
    "for epoch in range(epochs):\n",
    "    overall_loss = 0\n",
    "    average_loss = []\n",
    "    for batch_idx, (x, _) in enumerate(train_loader):\n",
    "        x = x.view(batch_size, x_dim)\n",
    "        x = x.to(DEVICE)\n",
    "\n",
    "        optimizer.zero_grad()\n",
    "\n",
    "        x_hat, mean, log_var = model(x)\n",
    "        loss = loss_function(x, x_hat, mean, log_var)\n",
    "        \n",
    "        overall_loss += loss.item()\n",
    "        # log overall loss to wandb\n",
    "        wandb.log({\"loss\":loss}) #, commit=False)   \n",
    "        \n",
    "        loss.backward()\n",
    "        optimizer.step()\n",
    "    print(\"\\tEpoch\", epoch + 1, \"complete!\", \"\\tAverage Loss: \", overall_loss / (batch_idx*batch_size))    \n",
    "    average_losses.append(overall_loss / (batch_idx*batch_size))\n",
    "print(\"Finish!!\")\n",
    "x = [1,2] #,3,4,5]\n",
    "plt.bar(x,average_losses)\n",
    "plt.title('Average loss along epochs')\n",
    "plt.xlabel('epoch')\n",
    "plt.ylabel('Average loss')\n",
    "plt.locator_params(axis=\"both\", integer=True, tight=True)\n",
    "# plt.ylim(bottom=0)\n",
    "plt.show()\n",
    "wandb.log({\"Average_loss\": plt}) #, commit=False)\n",
    "\n",
    "# wandb.log({\"Average_loss\": plt}) #, commit=False)\n",
    "\n",
    "# Generate reconstructions\n",
    "model.eval()\n",
    "with torch.no_grad():\n",
    "    for batch_idx, (x, _) in enumerate(test_loader):\n",
    "        x = x.view(batch_size, x_dim)\n",
    "        x = x.to(DEVICE)      \n",
    "        x_hat, _, _ = model(x)       \n",
    "        break\n",
    "\n",
    "# save_image(x.view(batch_size, 1, 28, 28), 'orig_data.png')\n",
    "# save_image(x_hat.view(batch_size, 1, 28, 28), 'reconstructions.png')\n",
    "\n",
    "wandb.log({\"orig_data\": wandb.Image(\"orig_data.png\")}) #, commit=False)\n",
    "wandb.log({\"reconstruction\": wandb.Image(\"reconstructions.png\")}) #, commit=False)\n",
    "\n",
    "\n",
    "wandb.finish()"
   ]
  }
 ],
 "metadata": {
  "kernelspec": {
   "display_name": "Python 3",
   "language": "python",
   "name": "python3"
  },
  "language_info": {
   "codemirror_mode": {
    "name": "ipython",
    "version": 3
   },
   "file_extension": ".py",
   "mimetype": "text/x-python",
   "name": "python",
   "nbconvert_exporter": "python",
   "pygments_lexer": "ipython3",
   "version": "3.8.13"
  },
  "orig_nbformat": 4,
  "vscode": {
   "interpreter": {
    "hash": "240a9a2023056db8410f0524415d27f6066a634d686182370d5eee6cb9534ea3"
   }
  }
 },
 "nbformat": 4,
 "nbformat_minor": 2
}
